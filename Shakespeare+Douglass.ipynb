{
 "cells": [
  {
   "cell_type": "code",
   "execution_count": 2,
   "metadata": {
    "collapsed": false
   },
   "outputs": [],
   "source": [
    "import findspark\n",
    "\n",
    "findspark.init()\n",
    "\n",
    "import pyspark\n",
    "\n",
    "sc = pyspark.SparkContext(appName=\"myAppName\")\n",
    "\n",
    "import os"
   ]
  },
  {
   "cell_type": "code",
   "execution_count": 3,
   "metadata": {
    "collapsed": false
   },
   "outputs": [],
   "source": [
    "#Shakespeare from Project Guttenberg\n",
    "\n",
    "if not os.path.exists('shakespeare.txt'):\n",
    "    ! wget http://www.gutenberg.org/cache/epub/100/pg100.txt -O shakespeare.txt"
   ]
  },
  {
   "cell_type": "code",
   "execution_count": 4,
   "metadata": {
    "collapsed": false
   },
   "outputs": [
    {
     "name": "stdout",
     "output_type": "stream",
     "text": [
      "--2016-12-21 18:05:09--  http://www.gutenberg.org/files/23/23.txt\n",
      "Resolving www.gutenberg.org... 152.19.134.47, 2610:28:3090:3000:0:bad:cafe:47\n",
      "Connecting to www.gutenberg.org|152.19.134.47|:80... connected.\n",
      "HTTP request sent, awaiting response... 200 OK\n",
      "Length: 248399 (243K) [text/plain]\n",
      "Saving to: “douglass1.txt”\n",
      "\n",
      "100%[======================================>] 248,399     1.56M/s   in 0.2s    \n",
      "\n",
      "2016-12-21 18:05:09 (1.56 MB/s) - “douglass1.txt” saved [248399/248399]\n",
      "\n",
      "--2016-12-21 18:05:09--  http://www.gutenberg.org/files/202/202.txt\n",
      "Resolving www.gutenberg.org... 152.19.134.47, 2610:28:3090:3000:0:bad:cafe:47\n",
      "Connecting to www.gutenberg.org|152.19.134.47|:80... connected.\n",
      "HTTP request sent, awaiting response... 200 OK\n",
      "Length: 797605 (779K) [text/plain]\n",
      "Saving to: “douglass2.txt”\n",
      "\n",
      "100%[======================================>] 797,605     2.87M/s   in 0.3s    \n",
      "\n",
      "2016-12-21 18:05:09 (2.87 MB/s) - “douglass2.txt” saved [797605/797605]\n",
      "\n"
     ]
    }
   ],
   "source": [
    "#Douglass from Project Guttenberg\n",
    "\n",
    "if not os.path.exists('Douglass1.txt'):\n",
    "    ! wget http://www.gutenberg.org/files/23/23.txt -O douglass1.txt\n",
    "        \n",
    "if not os.path.exists('Douglass2.txt'):\n",
    "    ! wget http://www.gutenberg.org/files/202/202.txt -O douglass2.txt"
   ]
  },
  {
   "cell_type": "code",
   "execution_count": 15,
   "metadata": {
    "collapsed": false
   },
   "outputs": [
    {
     "data": {
      "text/plain": [
       "904061"
      ]
     },
     "execution_count": 15,
     "metadata": {},
     "output_type": "execute_result"
    }
   ],
   "source": [
    "shak_doc = sc.textFile('shakespeare.txt')\n",
    "shak_words = shak_doc.flatMap(lambda x :x.split())\n",
    "shak_words.cache()\n",
    "shak_words.count()"
   ]
  },
  {
   "cell_type": "code",
   "execution_count": 18,
   "metadata": {
    "collapsed": false
   },
   "outputs": [
    {
     "data": {
      "text/plain": [
       "[u'The', u'Project', u'Gutenberg', u'EBook', u'of', u'The', u'Complete']"
      ]
     },
     "execution_count": 18,
     "metadata": {},
     "output_type": "execute_result"
    }
   ],
   "source": [
    "shak_words.take(7)"
   ]
  },
  {
   "cell_type": "code",
   "execution_count": 17,
   "metadata": {
    "collapsed": false
   },
   "outputs": [
    {
     "data": {
      "text/plain": [
       "[(u'The', u'Project', u'Gutenberg', u'EBook', u'of', u'The', u'Complete'),\n",
       " (u'Project', u'Gutenberg', u'EBook', u'of', u'The', u'Complete', u'Works'),\n",
       " (u'Gutenberg', u'EBook', u'of', u'The', u'Complete', u'Works', u'of'),\n",
       " (u'EBook', u'of', u'The', u'Complete', u'Works', u'of', u'William'),\n",
       " (u'of', u'The', u'Complete', u'Works', u'of', u'William', u'Shakespeare,'),\n",
       " (u'The', u'Complete', u'Works', u'of', u'William', u'Shakespeare,', u'by'),\n",
       " (u'This', u'eBook', u'is', u'for', u'the', u'use', u'of'),\n",
       " (u'eBook', u'is', u'for', u'the', u'use', u'of', u'anyone'),\n",
       " (u'is', u'for', u'the', u'use', u'of', u'anyone', u'anywhere'),\n",
       " (u'for', u'the', u'use', u'of', u'anyone', u'anywhere', u'at')]"
      ]
     },
     "execution_count": 17,
     "metadata": {},
     "output_type": "execute_result"
    }
   ],
   "source": [
    "shakespeare_sevengrams = shak_doc.map(lambda x:x.split()) \\\n",
    "    .flatMap(lambda x: [((x[i],x[i+1],x[i+2],x[i+3],x[i+4],x[i+5],x[i+6])) for i in range(0,len(x)-6)])\n",
    "shakespeare_sevengrams.take(10)"
   ]
  },
  {
   "cell_type": "code",
   "execution_count": 19,
   "metadata": {
    "collapsed": false
   },
   "outputs": [
    {
     "data": {
      "text/plain": [
       "43792"
      ]
     },
     "execution_count": 19,
     "metadata": {},
     "output_type": "execute_result"
    }
   ],
   "source": [
    "doug1_doc = sc.textFile('douglass1.txt')\n",
    "doug1_words = doug1_doc.flatMap(lambda x :x.split())\n",
    "doug1_words.cache()\n",
    "doug1_words.count()"
   ]
  },
  {
   "cell_type": "code",
   "execution_count": 20,
   "metadata": {
    "collapsed": false
   },
   "outputs": [
    {
     "data": {
      "text/plain": [
       "138065"
      ]
     },
     "execution_count": 20,
     "metadata": {},
     "output_type": "execute_result"
    }
   ],
   "source": [
    "doug2_doc = sc.textFile('douglass2.txt')\n",
    "doug2_words = doug2_doc.flatMap(lambda x :x.split())\n",
    "doug2_words.cache()\n",
    "doug2_words.count()"
   ]
  },
  {
   "cell_type": "code",
   "execution_count": 30,
   "metadata": {
    "collapsed": false
   },
   "outputs": [
    {
     "data": {
      "text/plain": [
       "181857"
      ]
     },
     "execution_count": 30,
     "metadata": {},
     "output_type": "execute_result"
    }
   ],
   "source": [
    "douglass_doc = sc.textFile(\"douglass1.txt*,douglass2.txt\")#easy to load multiple text files in a single Spark RDD\n",
    "douglass_words = douglass_doc.flatMap(lambda x :x.split())\n",
    "douglass_words.cache()\n",
    "douglass_words.count()"
   ]
  },
  {
   "cell_type": "code",
   "execution_count": 29,
   "metadata": {
    "collapsed": false
   },
   "outputs": [
    {
     "data": {
      "text/plain": [
       "[u'The', u'Project', u'Gutenberg', u'EBook', u'of', u'The', u'Narrative']"
      ]
     },
     "execution_count": 29,
     "metadata": {},
     "output_type": "execute_result"
    }
   ],
   "source": [
    "doug_words.take(7)"
   ]
  },
  {
   "cell_type": "code",
   "execution_count": 54,
   "metadata": {
    "collapsed": false
   },
   "outputs": [
    {
     "data": {
      "text/plain": [
       "[(u'The', u'Project', u'Gutenberg', u'EBook', u'of', u'The', u'Narrative'),\n",
       " (u'Project', u'Gutenberg', u'EBook', u'of', u'The', u'Narrative', u'of'),\n",
       " (u'Gutenberg', u'EBook', u'of', u'The', u'Narrative', u'of', u'the'),\n",
       " (u'EBook', u'of', u'The', u'Narrative', u'of', u'the', u'Life'),\n",
       " (u'of', u'The', u'Narrative', u'of', u'the', u'Life', u'of'),\n",
       " (u'The', u'Narrative', u'of', u'the', u'Life', u'of', u'Frederick'),\n",
       " (u'This', u'eBook', u'is', u'for', u'the', u'use', u'of'),\n",
       " (u'eBook', u'is', u'for', u'the', u'use', u'of', u'anyone'),\n",
       " (u'is', u'for', u'the', u'use', u'of', u'anyone', u'anywhere'),\n",
       " (u'for', u'the', u'use', u'of', u'anyone', u'anywhere', u'at')]"
      ]
     },
     "execution_count": 54,
     "metadata": {},
     "output_type": "execute_result"
    }
   ],
   "source": [
    "douglass_sevengrams = douglass_doc.map(lambda x:x.split()) \\\n",
    "    .flatMap(lambda x: [((x[i],x[i+1],x[i+2],x[i+3],x[i+4],x[i+5],x[i+6])) for i in range(0,len(x)-6)])\n",
    "douglass_sevengrams.take(10)"
   ]
  },
  {
   "cell_type": "code",
   "execution_count": 55,
   "metadata": {
    "collapsed": false
   },
   "outputs": [
    {
     "name": "stdout",
     "output_type": "stream",
     "text": [
      "CPU times: user 13 ms, sys: 0 ns, total: 13 ms\n",
      "Wall time: 21.3 ms\n"
     ]
    },
    {
     "data": {
      "text/plain": [
       "[(u'your', u'written', u'explanation.', u'The', u'person', u'or', u'entity'),\n",
       " (u'your', u'efforts', u'and', u'donations', u'can', u'help,', u'see'),\n",
       " (u'your', u'country', u'in', u'addition', u'to', u'the', u'terms'),\n",
       " (u'you!)', u'can', u'copy', u'and', u'distribute', u'it', u'in'),\n",
       " (u'you', u'wish', u'to', u'charge', u'a', u'fee', u'or'),\n",
       " (u'you', u'share', u'it', u'without', u'charge', u'with', u'others.'),\n",
       " (u'you', u'received', u'the', u'work', u'from.', u'If', u'you'),\n",
       " (u'you', u'received', u'the', u'work', u'electronically,', u'the', u'person'),\n",
       " (u'you', u'receive', u'specific', u'permission.', u'If', u'you', u'do'),\n",
       " (u'you', u'paid', u'the', u'fee', u'as', u'set', u'forth')]"
      ]
     },
     "execution_count": 55,
     "metadata": {},
     "output_type": "execute_result"
    }
   ],
   "source": [
    "%time douglass_shakespeare_mentions = shakespeare_sevengrams.intersection(douglass_sevengrams)\n",
    "douglass_shakespeare_mentions.top(10)"
   ]
  },
  {
   "cell_type": "code",
   "execution_count": 44,
   "metadata": {
    "collapsed": false
   },
   "outputs": [
    {
     "name": "stdout",
     "output_type": "stream",
     "text": [
      "--2016-12-21 18:56:38--  http://www.gutenberg.org/cache/epub/5200/pg5200.txt\n",
      "Resolving www.gutenberg.org... 152.19.134.47, 2610:28:3090:3000:0:bad:cafe:47\n",
      "Connecting to www.gutenberg.org|152.19.134.47|:80... connected.\n",
      "HTTP request sent, awaiting response... 200 OK\n",
      "Length: 141420 (138K) [text/plain]\n",
      "Saving to: “kafka.txt”\n",
      "\n",
      "100%[======================================>] 141,420     --.-K/s   in 0.06s   \n",
      "\n",
      "2016-12-21 18:56:38 (2.36 MB/s) - “kafka.txt” saved [141420/141420]\n",
      "\n"
     ]
    },
    {
     "data": {
      "text/plain": [
       "25186"
      ]
     },
     "execution_count": 44,
     "metadata": {},
     "output_type": "execute_result"
    }
   ],
   "source": [
    "#Kafka from Project Guttenberg\n",
    "\n",
    "if not os.path.exists('kafka.txt'):\n",
    "    ! wget http://www.gutenberg.org/cache/epub/5200/pg5200.txt -O kafka.txt\n",
    "\n",
    "kafka_doc = sc.textFile('kafka.txt')\n",
    "kafka_words = kafka_doc.flatMap(lambda x :x.split())\n",
    "kafka_words.cache()\n",
    "kafka_words.count()"
   ]
  },
  {
   "cell_type": "code",
   "execution_count": 45,
   "metadata": {
    "collapsed": false
   },
   "outputs": [
    {
     "data": {
      "text/plain": [
       "[(u'The', u'Project', u'Gutenberg', u'EBook', u'of', u'Metamorphosis,', u'by'),\n",
       " (u'Project',\n",
       "  u'Gutenberg',\n",
       "  u'EBook',\n",
       "  u'of',\n",
       "  u'Metamorphosis,',\n",
       "  u'by',\n",
       "  u'Franz'),\n",
       " (u'Gutenberg', u'EBook', u'of', u'Metamorphosis,', u'by', u'Franz', u'Kafka'),\n",
       " (u'This', u'eBook', u'is', u'for', u'the', u'use', u'of'),\n",
       " (u'eBook', u'is', u'for', u'the', u'use', u'of', u'anyone'),\n",
       " (u'is', u'for', u'the', u'use', u'of', u'anyone', u'anywhere'),\n",
       " (u'for', u'the', u'use', u'of', u'anyone', u'anywhere', u'at'),\n",
       " (u'the', u'use', u'of', u'anyone', u'anywhere', u'at', u'no'),\n",
       " (u'use', u'of', u'anyone', u'anywhere', u'at', u'no', u'cost'),\n",
       " (u'of', u'anyone', u'anywhere', u'at', u'no', u'cost', u'and')]"
      ]
     },
     "execution_count": 45,
     "metadata": {},
     "output_type": "execute_result"
    }
   ],
   "source": [
    "kafka_sevengrams = kafka_doc.map(lambda x:x.split()) \\\n",
    "    .flatMap(lambda x: [((x[i],x[i+1],x[i+2],x[i+3],x[i+4],x[i+5],x[i+6])) for i in range(0,len(x)-6)])\n",
    "kafka_sevengrams.take(10)"
   ]
  },
  {
   "cell_type": "code",
   "execution_count": 58,
   "metadata": {
    "collapsed": false
   },
   "outputs": [
    {
     "name": "stdout",
     "output_type": "stream",
     "text": [
      "CPU times: user 16 ms, sys: 1 ms, total: 17 ms\n",
      "Wall time: 22.1 ms\n"
     ]
    }
   ],
   "source": [
    "%time douglass_shakespeare_mentions_trimmed = douglass_shakespeare_mentions.subtract(kafka_sevengrams, numPartitions=None)"
   ]
  },
  {
   "cell_type": "code",
   "execution_count": 50,
   "metadata": {
    "collapsed": false
   },
   "outputs": [
    {
     "data": {
      "text/plain": [
       "[(u'with', u'this', u'eBook', u'or', u'online', u'at', u'www.gutenberg.org'),\n",
       " (u'domain', u'print', u'editions', u'means', u'that', u'no', u'one'),\n",
       " (u'and', u'research.', u'They', u'may', u'be', u'modified', u'and'),\n",
       " (u'printed', u'and', u'given', u'away--you', u'may', u'do', u'practically'),\n",
       " (u'distributing',\n",
       "  u'Project',\n",
       "  u'Gutenberg-tm',\n",
       "  u'electronic',\n",
       "  u'works',\n",
       "  u'to',\n",
       "  u'protect'),\n",
       " (u'copyright', u'royalties.', u'Special', u'rules,', u'set', u'forth', u'in'),\n",
       " (u'reports,', u'performances', u'and', u'research.', u'They', u'may', u'be'),\n",
       " (u'damage', u'or', u'cannot', u'be', u'read', u'by', u'your'),\n",
       " (u'of', u'this', u'eBook,', u'complying', u'with', u'the', u'rules'),\n",
       " (u'the', u'previous', u'one--the', u'old', u'editions', u'will', u'be'),\n",
       " (u'the',\n",
       "  u'official',\n",
       "  u'Project',\n",
       "  u'Gutenberg-tm',\n",
       "  u'web',\n",
       "  u'site',\n",
       "  u'(www.gutenberg.org),'),\n",
       " (u'and', u'licensed', u'works', u'that', u'can', u'be', u'freely'),\n",
       " (u'eBook', u'for', u'nearly', u'any', u'purpose', u'such', u'as'),\n",
       " (u'domain', u'eBooks.', u'Redistribution', u'is', u'subject', u'to', u'the'),\n",
       " (u'of', u'the', u'Project', u'Gutenberg', u'EBook', u'of', u'The'),\n",
       " (u'.', u'.', u'.', u'.', u'.', u'.', u'.'),\n",
       " (u'for', u'nearly', u'any', u'purpose', u'such', u'as', u'creation'),\n",
       " (u'and', u'given', u'away--you', u'may', u'do', u'practically', u'ANYTHING'),\n",
       " (u'ways',\n",
       "  u'including',\n",
       "  u'checks,',\n",
       "  u'online',\n",
       "  u'payments',\n",
       "  u'and',\n",
       "  u'credit'),\n",
       " (u'performances', u'and', u'research.', u'They', u'may', u'be', u'modified'),\n",
       " (u'Redistribution',\n",
       "  u'is',\n",
       "  u'subject',\n",
       "  u'to',\n",
       "  u'the',\n",
       "  u'trademark',\n",
       "  u'license,'),\n",
       " (u'eBooks.',\n",
       "  u'Redistribution',\n",
       "  u'is',\n",
       "  u'subject',\n",
       "  u'to',\n",
       "  u'the',\n",
       "  u'trademark'),\n",
       " (u'GUTENBERG-tm',\n",
       "  u'concept',\n",
       "  u'and',\n",
       "  u'trademark.',\n",
       "  u'Project',\n",
       "  u'Gutenberg',\n",
       "  u'is'),\n",
       " (u'nearly', u'any', u'purpose', u'such', u'as', u'creation', u'of'),\n",
       " (u'part', u'of', u'this', u'license,', u'apply', u'to', u'copying'),\n",
       " (u'or', u'cannot', u'be', u'read', u'by', u'your', u'equipment.'),\n",
       " (u'be', u'used', u'if', u'you', u'charge', u'for', u'the'),\n",
       " (u'in', u'these', u'works,', u'so', u'the', u'Foundation', u'(and'),\n",
       " (u'complying', u'with', u'the', u'rules', u'is', u'very', u'easy.'),\n",
       " (u'permission.', u'If', u'you', u'do', u'not', u'charge', u'anything'),\n",
       " (u'PROJECT',\n",
       "  u'GUTENBERG-tm',\n",
       "  u'concept',\n",
       "  u'and',\n",
       "  u'trademark.',\n",
       "  u'Project',\n",
       "  u'Gutenberg'),\n",
       " (u'given', u'away--you', u'may', u'do', u'practically', u'ANYTHING', u'with'),\n",
       " (u'this', u'eBook,', u'complying', u'with', u'the', u'rules', u'is'),\n",
       " (u'not', u'be', u'used', u'if', u'you', u'charge', u'for'),\n",
       " (u'checks,',\n",
       "  u'online',\n",
       "  u'payments',\n",
       "  u'and',\n",
       "  u'credit',\n",
       "  u'card',\n",
       "  u'donations.'),\n",
       " (u'Project',\n",
       "  u'Gutenberg-tm',\n",
       "  u'electronic',\n",
       "  u'works',\n",
       "  u'to',\n",
       "  u'protect',\n",
       "  u'the'),\n",
       " (u'this', u'eBook', u'for', u'nearly', u'any', u'purpose', u'such'),\n",
       " (u'used', u'if', u'you', u'charge', u'for', u'the', u'eBooks,'),\n",
       " (u'eBook,', u'complying', u'with', u'the', u'rules', u'is', u'very'),\n",
       " (u'paying',\n",
       "  u'copyright',\n",
       "  u'royalties.',\n",
       "  u'Special',\n",
       "  u'rules,',\n",
       "  u'set',\n",
       "  u'forth'),\n",
       " (u'of', u'this', u'license,', u'apply', u'to', u'copying', u'and'),\n",
       " (u'replace', u'the', u'previous', u'one--the', u'old', u'editions', u'will'),\n",
       " (u'specific', u'permission.', u'If', u'you', u'do', u'not', u'charge'),\n",
       " (u'receive', u'specific', u'permission.', u'If', u'you', u'do', u'not'),\n",
       " (u'it', u'in', u'the', u'United', u'States', u'without', u'permission'),\n",
       " (u'away--you',\n",
       "  u'may',\n",
       "  u'do',\n",
       "  u'practically',\n",
       "  u'ANYTHING',\n",
       "  u'with',\n",
       "  u'public'),\n",
       " (u'concept', u'and', u'trademark.', u'Project', u'Gutenberg', u'is', u'a'),\n",
       " (u'without',\n",
       "  u'paying',\n",
       "  u'copyright',\n",
       "  u'royalties.',\n",
       "  u'Special',\n",
       "  u'rules,',\n",
       "  u'set'),\n",
       " (u'form', u'and', u'moving', u'how', u'express', u'and', u'admirable!'),\n",
       " (u'with', u'the', u'rules', u'is', u'very', u'easy.', u'You'),\n",
       " (u'works,',\n",
       "  u'reports,',\n",
       "  u'performances',\n",
       "  u'and',\n",
       "  u'research.',\n",
       "  u'They',\n",
       "  u'may'),\n",
       " (u'may', u'not', u'be', u'used', u'if', u'you', u'charge'),\n",
       " (u'you', u'receive', u'specific', u'permission.', u'If', u'you', u'do'),\n",
       " (u'any', u'purpose', u'such', u'as', u'creation', u'of', u'derivative')]"
      ]
     },
     "execution_count": 50,
     "metadata": {},
     "output_type": "execute_result"
    }
   ],
   "source": [
    "douglass_shakespeare_mentions_trimmed.collect()"
   ]
  },
  {
   "cell_type": "code",
   "execution_count": 59,
   "metadata": {
    "collapsed": false
   },
   "outputs": [
    {
     "data": {
      "text/plain": [
       "54"
      ]
     },
     "execution_count": 59,
     "metadata": {},
     "output_type": "execute_result"
    }
   ],
   "source": [
    "douglass_shakespeare_mentions_trimmed.count()"
   ]
  },
  {
   "cell_type": "code",
   "execution_count": 60,
   "metadata": {
    "collapsed": false
   },
   "outputs": [
    {
     "data": {
      "text/plain": [
       "1226"
      ]
     },
     "execution_count": 60,
     "metadata": {},
     "output_type": "execute_result"
    }
   ],
   "source": [
    "douglass_shakespeare_mentions.count()"
   ]
  },
  {
   "cell_type": "code",
   "execution_count": 61,
   "metadata": {
    "collapsed": false
   },
   "outputs": [
    {
     "name": "stdout",
     "output_type": "stream",
     "text": [
      "CPU times: user 0 ns, sys: 0 ns, total: 0 ns\n",
      "Wall time: 8.82 µs\n",
      "--2016-12-21 19:23:09--  http://www.gutenberg.org/cache/epub/10/pg10.txt\n",
      "Resolving www.gutenberg.org... 152.19.134.47, 2610:28:3090:3000:0:bad:cafe:47\n",
      "Connecting to www.gutenberg.org|152.19.134.47|:80... connected.\n",
      "HTTP request sent, awaiting response... 200 OK\n",
      "Length: 4452070 (4.2M) [text/plain]\n",
      "Saving to: “kjv.txt”\n",
      "\n",
      "100%[======================================>] 4,452,070   3.23M/s   in 1.3s    \n",
      "\n",
      "2016-12-21 19:23:10 (3.23 MB/s) - “kjv.txt” saved [4452070/4452070]\n",
      "\n"
     ]
    },
    {
     "data": {
      "text/plain": [
       "824146"
      ]
     },
     "execution_count": 61,
     "metadata": {},
     "output_type": "execute_result"
    }
   ],
   "source": [
    "#King James Version (KJV) of Bible from Project Guttenberg\n",
    "%time\n",
    "if not os.path.exists('kjv.txt'):\n",
    "    ! wget http://www.gutenberg.org/cache/epub/10/pg10.txt -O kjv.txt\n",
    "\n",
    "kjv_doc = sc.textFile('kjv.txt')\n",
    "kjv_words = kjv_doc.flatMap(lambda x :x.split())\n",
    "kjv_words.cache()\n",
    "kjv_words.count()"
   ]
  },
  {
   "cell_type": "code",
   "execution_count": 62,
   "metadata": {
    "collapsed": false
   },
   "outputs": [
    {
     "data": {
      "text/plain": [
       "[(u'The', u'Project', u'Gutenberg', u'EBook', u'of', u'The', u'King'),\n",
       " (u'Project', u'Gutenberg', u'EBook', u'of', u'The', u'King', u'James'),\n",
       " (u'Gutenberg', u'EBook', u'of', u'The', u'King', u'James', u'Bible'),\n",
       " (u'This', u'eBook', u'is', u'for', u'the', u'use', u'of'),\n",
       " (u'eBook', u'is', u'for', u'the', u'use', u'of', u'anyone'),\n",
       " (u'is', u'for', u'the', u'use', u'of', u'anyone', u'anywhere'),\n",
       " (u'for', u'the', u'use', u'of', u'anyone', u'anywhere', u'at'),\n",
       " (u'the', u'use', u'of', u'anyone', u'anywhere', u'at', u'no'),\n",
       " (u'use', u'of', u'anyone', u'anywhere', u'at', u'no', u'cost'),\n",
       " (u'of', u'anyone', u'anywhere', u'at', u'no', u'cost', u'and')]"
      ]
     },
     "execution_count": 62,
     "metadata": {},
     "output_type": "execute_result"
    }
   ],
   "source": [
    "kjv_sevengrams = kjv_doc.map(lambda x:x.split()) \\\n",
    "    .flatMap(lambda x: [((x[i],x[i+1],x[i+2],x[i+3],x[i+4],x[i+5],x[i+6])) for i in range(0,len(x)-6)])\n",
    "kjv_sevengrams.take(10)"
   ]
  },
  {
   "cell_type": "code",
   "execution_count": 63,
   "metadata": {
    "collapsed": false
   },
   "outputs": [
    {
     "name": "stdout",
     "output_type": "stream",
     "text": [
      "CPU times: user 12 ms, sys: 1 ms, total: 13 ms\n",
      "Wall time: 20.2 ms\n"
     ]
    },
    {
     "data": {
      "text/plain": [
       "[(u'your', u'written', u'explanation.', u'The', u'person', u'or', u'entity'),\n",
       " (u'your', u'efforts', u'and', u'donations', u'can', u'help,', u'see'),\n",
       " (u'your', u'country', u'in', u'addition', u'to', u'the', u'terms'),\n",
       " (u'you,', u'scribes', u'and', u'Pharisees,', u'hypocrites!', u'for', u'ye'),\n",
       " (u'you!)', u'can', u'copy', u'and', u'distribute', u'it', u'in'),\n",
       " (u'you', u'wish', u'to', u'charge', u'a', u'fee', u'or'),\n",
       " (u'you', u'share', u'it', u'without', u'charge', u'with', u'others.'),\n",
       " (u'you', u'received', u'the', u'work', u'from.', u'If', u'you'),\n",
       " (u'you', u'received', u'the', u'work', u'electronically,', u'the', u'person'),\n",
       " (u'you', u'paid', u'the', u'fee', u'as', u'set', u'forth')]"
      ]
     },
     "execution_count": 63,
     "metadata": {},
     "output_type": "execute_result"
    }
   ],
   "source": [
    "%time douglass_kjv_mentions = kjv_sevengrams.intersection(douglass_sevengrams)\n",
    "douglass_kjv_mentions.top(10)"
   ]
  },
  {
   "cell_type": "code",
   "execution_count": 64,
   "metadata": {
    "collapsed": false
   },
   "outputs": [
    {
     "data": {
      "text/plain": [
       "1298"
      ]
     },
     "execution_count": 64,
     "metadata": {},
     "output_type": "execute_result"
    }
   ],
   "source": [
    "douglass_kjv_mentions.count()"
   ]
  },
  {
   "cell_type": "code",
   "execution_count": 65,
   "metadata": {
    "collapsed": false
   },
   "outputs": [
    {
     "name": "stdout",
     "output_type": "stream",
     "text": [
      "CPU times: user 19 ms, sys: 1 ms, total: 20 ms\n",
      "Wall time: 26.6 ms\n"
     ]
    }
   ],
   "source": [
    "%time douglass_kjv_mentions_trimmed = douglass_kjv_mentions.subtract(kafka_sevengrams, numPartitions=None)"
   ]
  },
  {
   "cell_type": "code",
   "execution_count": 66,
   "metadata": {
    "collapsed": false
   },
   "outputs": [
    {
     "data": {
      "text/plain": [
       "86"
      ]
     },
     "execution_count": 66,
     "metadata": {},
     "output_type": "execute_result"
    }
   ],
   "source": [
    "douglass_kjv_mentions_trimmed.count()"
   ]
  },
  {
   "cell_type": "code",
   "execution_count": 67,
   "metadata": {
    "collapsed": false
   },
   "outputs": [
    {
     "data": {
      "text/plain": [
       "[(u'with', u'this', u'eBook', u'or', u'online', u'at', u'www.gutenberg.org'),\n",
       " (u'make', u'one', u'proselyte,', u'and', u'when', u'he', u'is'),\n",
       " (u'required', u'of', u'us', u'mirth,', u'saying,', u'Sing', u'us'),\n",
       " (u'to', u'have', u'done,', u'and', u'not', u'to', u'leave'),\n",
       " (u'stranger', u'with', u'thee,', u'and', u'a', u'sojourner,', u'as'),\n",
       " (u'sea', u'and', u'land', u'to', u'make', u'one', u'proselyte,'),\n",
       " (u'be', u'avenged', u'on', u'such', u'a', u'nation', u'as'),\n",
       " (u'they', u'do', u'for', u'to', u'be', u'seen', u'of'),\n",
       " (u'thee,', u'O', u'Jerusalem,', u'let', u'my', u'right', u'hand'),\n",
       " (u'land', u'to', u'make', u'one', u'proselyte,', u'and', u'when'),\n",
       " (u'not', u'remember', u'thee,', u'let', u'my', u'tongue', u'cleave'),\n",
       " (u'their', u'works', u'they', u'do', u'for', u'to', u'be'),\n",
       " (u'us', u'required', u'of', u'us', u'mirth,', u'saying,', u'Sing'),\n",
       " (u'the',\n",
       "  u'official',\n",
       "  u'Project',\n",
       "  u'Gutenberg-tm',\n",
       "  u'web',\n",
       "  u'site',\n",
       "  u'(www.gutenberg.org),'),\n",
       " (u'first', u'which', u'is', u'spiritual,', u'but', u'that', u'which'),\n",
       " (u'so', u'ye', u'also', u'outwardly', u'appear', u'righteous', u'unto'),\n",
       " (u'I', u'forget', u'thee,', u'O', u'Jerusalem,', u'let', u'my'),\n",
       " (u'ought', u'ye', u'to', u'have', u'done,', u'and', u'not'),\n",
       " (u'of', u'the', u'Project', u'Gutenberg', u'EBook', u'of', u'The'),\n",
       " (u'thee,', u'let', u'my', u'tongue', u'cleave', u'to', u'the'),\n",
       " (u'my', u'soul', u'be', u'avenged', u'on', u'such', u'a'),\n",
       " (u'not', u'first', u'which', u'is', u'spiritual,', u'but', u'that'),\n",
       " (u'do', u'not', u'remember', u'thee,', u'let', u'my', u'tongue'),\n",
       " (u'works', u'they', u'do', u'for', u'to', u'be', u'seen'),\n",
       " (u'ways',\n",
       "  u'including',\n",
       "  u'checks,',\n",
       "  u'online',\n",
       "  u'payments',\n",
       "  u'and',\n",
       "  u'credit'),\n",
       " (u'uppermost', u'rooms', u'at', u'feasts,', u'and', u'the', u'chief'),\n",
       " (u'harps', u'upon', u'the', u'willows', u'in', u'the', u'midst'),\n",
       " (u'Even', u'so', u'ye', u'also', u'outwardly', u'appear', u'righteous'),\n",
       " (u'to', u'make', u'one', u'proselyte,', u'and', u'when', u'he'),\n",
       " (u'and', u'grievous', u'to', u'be', u'borne,', u'and', u'lay'),\n",
       " (u'scribes', u'and', u'Pharisees,', u'hypocrites!', u'for', u'ye', u'make'),\n",
       " (u'ye', u'also', u'outwardly', u'appear', u'righteous', u'unto', u'men,'),\n",
       " (u'them', u'up', u'in', u'the', u'nurture', u'and', u'admonition'),\n",
       " (u'one', u'proselyte,', u'and', u'when', u'he', u'is', u'made,'),\n",
       " (u'the', u'rivers', u'of', u'Babylon,', u'there', u'we', u'sat'),\n",
       " (u'unto', u'you,', u'scribes', u'and', u'Pharisees,', u'hypocrites!', u'for'),\n",
       " (u'am', u'a', u'stranger', u'with', u'thee,', u'and', u'a'),\n",
       " (u'which', u'is', u'spiritual,', u'but', u'that', u'which', u'is'),\n",
       " (u'O', u'Jerusalem,', u'let', u'my', u'right', u'hand', u'forget'),\n",
       " (u'outside', u'of', u'the', u'cup', u'and', u'of', u'the'),\n",
       " (u'scribes', u'and', u'Pharisees,', u'hypocrites!', u'for', u'ye', u'pay'),\n",
       " (u'spoiled', u'out', u'of', u'the', u'hand', u'of', u'the'),\n",
       " (u'remember', u'thee,', u'let', u'my', u'tongue', u'cleave', u'to'),\n",
       " (u'and', u'land', u'to', u'make', u'one', u'proselyte,', u'and'),\n",
       " (u'full', u'of', u'dead', u\"men's\", u'bones,', u'and', u'of'),\n",
       " (u'of', u'dead', u\"men's\", u'bones,', u'and', u'of', u'all'),\n",
       " (u'soul', u'be', u'avenged', u'on', u'such', u'a', u'nation'),\n",
       " (u'clean', u'the', u'outside', u'of', u'the', u'cup', u'and'),\n",
       " (u'not', u'visit', u'for', u'these', u'things?', u'saith', u'the'),\n",
       " (u'wasted', u'us', u'required', u'of', u'us', u'mirth,', u'saying,'),\n",
       " (u'I', u'do', u'not', u'remember', u'thee,', u'let', u'my'),\n",
       " (u'until', u'the', u'going', u'down', u'of', u'the', u'sun.'),\n",
       " (u'this', u'work', u'is', u'provided', u'to', u'you', u\"'AS-IS'\"),\n",
       " (u'checks,',\n",
       "  u'online',\n",
       "  u'payments',\n",
       "  u'and',\n",
       "  u'credit',\n",
       "  u'card',\n",
       "  u'donations.'),\n",
       " (u'let', u'my', u'tongue', u'cleave', u'to', u'the', u'roof'),\n",
       " (u'provided', u'to', u'you', u\"'AS-IS'\", u'WITH', u'NO', u'OTHER'),\n",
       " (u'at', u'a', u'gnat,', u'and', u'swallow', u'a', u'camel.'),\n",
       " (u'you,', u'scribes', u'and', u'Pharisees,', u'hypocrites!', u'for', u'ye'),\n",
       " (u'forget', u'thee,', u'O', u'Jerusalem,', u'let', u'my', u'right'),\n",
       " (u'rooms', u'at', u'feasts,', u'and', u'the', u'chief', u'seats'),\n",
       " (u'our', u'harps', u'upon', u'the', u'willows', u'in', u'the'),\n",
       " (u'strain', u'at', u'a', u'gnat,', u'and', u'swallow', u'a'),\n",
       " (u'the', u'outside', u'of', u'the', u'cup', u'and', u'of'),\n",
       " (u'they', u'themselves', u'will', u'not', u'move', u'them', u'with'),\n",
       " (u'also', u'outwardly', u'appear', u'righteous', u'unto', u'men,', u'but'),\n",
       " (u'ye', u'to', u'have', u'done,', u'and', u'not', u'to'),\n",
       " (u'I', u'not', u'visit', u'for', u'these', u'things?', u'saith'),\n",
       " (u'a', u'stranger', u'with', u'thee,', u'and', u'a', u'sojourner,'),\n",
       " (u'but', u'they', u'themselves', u'will', u'not', u'move', u'them'),\n",
       " (u'my', u'tongue', u'cleave', u'to', u'the', u'roof', u'of'),\n",
       " (u'We', u'hanged', u'our', u'harps', u'upon', u'the', u'willows'),\n",
       " (u'is', u'provided', u'to', u'you', u\"'AS-IS'\", u'WITH', u'NO'),\n",
       " (u'was', u'not', u'first', u'which', u'is', u'spiritual,', u'but'),\n",
       " (u'If', u'I', u'forget', u'thee,', u'O', u'Jerusalem,', u'let'),\n",
       " (u'have', u'done,', u'and', u'not', u'to', u'leave', u'the'),\n",
       " (u'at', u'feasts,', u'and', u'the', u'chief', u'seats', u'in'),\n",
       " (u'within', u'full', u'of', u'dead', u\"men's\", u'bones,', u'and'),\n",
       " (u'Jerusalem,', u'let', u'my', u'right', u'hand', u'forget', u'her'),\n",
       " (u'which', u'strain', u'at', u'a', u'gnat,', u'and', u'swallow'),\n",
       " (u'twofold', u'more', u'the', u'child', u'of', u'hell', u'than'),\n",
       " (u\"widows'\", u'houses,', u'and', u'for', u'a', u'pretence', u'make'),\n",
       " (u'work', u'is', u'provided', u'to', u'you', u\"'AS-IS'\", u'WITH'),\n",
       " (u'proselyte,', u'and', u'when', u'he', u'is', u'made,', u'ye'),\n",
       " (u'Woe', u'unto', u'you,', u'scribes', u'and', u'Pharisees,', u'hypocrites!'),\n",
       " (u'that', u'was', u'not', u'first', u'which', u'is', u'spiritual,'),\n",
       " (u'hanged', u'our', u'harps', u'upon', u'the', u'willows', u'in')]"
      ]
     },
     "execution_count": 67,
     "metadata": {},
     "output_type": "execute_result"
    }
   ],
   "source": [
    "douglass_kjv_mentions_trimmed.collect()"
   ]
  },
  {
   "cell_type": "code",
   "execution_count": null,
   "metadata": {
    "collapsed": true
   },
   "outputs": [],
   "source": []
  }
 ],
 "metadata": {
  "kernelspec": {
   "display_name": "Python 2",
   "language": "python",
   "name": "python2"
  },
  "language_info": {
   "codemirror_mode": {
    "name": "ipython",
    "version": 2
   },
   "file_extension": ".py",
   "mimetype": "text/x-python",
   "name": "python",
   "nbconvert_exporter": "python",
   "pygments_lexer": "ipython2",
   "version": "2.7.12"
  }
 },
 "nbformat": 4,
 "nbformat_minor": 2
}
